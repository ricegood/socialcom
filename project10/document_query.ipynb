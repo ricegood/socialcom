{
 "cells": [
  {
   "cell_type": "markdown",
   "metadata": {},
   "source": [
    "# Document Query"
   ]
  },
  {
   "cell_type": "code",
   "execution_count": 1,
   "metadata": {},
   "outputs": [
    {
     "data": {
      "text/html": [
       "<div>\n",
       "<style scoped>\n",
       "    .dataframe tbody tr th:only-of-type {\n",
       "        vertical-align: middle;\n",
       "    }\n",
       "\n",
       "    .dataframe tbody tr th {\n",
       "        vertical-align: top;\n",
       "    }\n",
       "\n",
       "    .dataframe thead th {\n",
       "        text-align: right;\n",
       "    }\n",
       "</style>\n",
       "<table border=\"1\" class=\"dataframe\">\n",
       "  <thead>\n",
       "    <tr style=\"text-align: right;\">\n",
       "      <th></th>\n",
       "      <th>name</th>\n",
       "      <th>id</th>\n",
       "      <th>text</th>\n",
       "    </tr>\n",
       "  </thead>\n",
       "  <tbody>\n",
       "    <tr>\n",
       "      <th>0</th>\n",
       "      <td>초한지 6</td>\n",
       "      <td>9.788937e+12</td>\n",
       "      <td>단 한번 승리 천하 고조 유방 단 번의 패배 모든 것 초패 항우 이 책 유방 한우 ...</td>\n",
       "    </tr>\n",
       "    <tr>\n",
       "      <th>1</th>\n",
       "      <td>폭풍의 언덕</td>\n",
       "      <td>9.791156e+12</td>\n",
       "      <td>인간 애증 격정 치명 복수 화제 드라마 비밀 의 모티프 폭풍 언덕 서른 해 생 살 ...</td>\n",
       "    </tr>\n",
       "    <tr>\n",
       "      <th>2</th>\n",
       "      <td>걸, 마돈나 세트</td>\n",
       "      <td>9.788993e+12</td>\n",
       "      <td>걸 직장 여성 심리 리얼 유쾌하 소설 얼굴 잔 주름 이제 화장 발 이 제 나이 도 ...</td>\n",
       "    </tr>\n",
       "    <tr>\n",
       "      <th>3</th>\n",
       "      <td>커피점 탈레랑의 사건 수첩 2</td>\n",
       "      <td>9.791185e+12</td>\n",
       "      <td>잔 커피 년 추억 터키 속담 교토 거리 뒤편 자리 커피점 탈레랑 미호 시 여동생 미...</td>\n",
       "    </tr>\n",
       "    <tr>\n",
       "      <th>4</th>\n",
       "      <td>무의미의 축제</td>\n",
       "      <td>9.788937e+12</td>\n",
       "      <td>농담 거짓말 의미 무의미 일상 축제 경계 삶 인간 본질 더욱 원숙 해진 시선 수 존...</td>\n",
       "    </tr>\n",
       "  </tbody>\n",
       "</table>\n",
       "</div>"
      ],
      "text/plain": [
       "               name            id  \\\n",
       "0             초한지 6  9.788937e+12   \n",
       "1            폭풍의 언덕  9.791156e+12   \n",
       "2         걸, 마돈나 세트  9.788993e+12   \n",
       "3  커피점 탈레랑의 사건 수첩 2  9.791185e+12   \n",
       "4           무의미의 축제  9.788937e+12   \n",
       "\n",
       "                                                text  \n",
       "0  단 한번 승리 천하 고조 유방 단 번의 패배 모든 것 초패 항우 이 책 유방 한우 ...  \n",
       "1  인간 애증 격정 치명 복수 화제 드라마 비밀 의 모티프 폭풍 언덕 서른 해 생 살 ...  \n",
       "2  걸 직장 여성 심리 리얼 유쾌하 소설 얼굴 잔 주름 이제 화장 발 이 제 나이 도 ...  \n",
       "3  잔 커피 년 추억 터키 속담 교토 거리 뒤편 자리 커피점 탈레랑 미호 시 여동생 미...  \n",
       "4  농담 거짓말 의미 무의미 일상 축제 경계 삶 인간 본질 더욱 원숙 해진 시선 수 존...  "
      ]
     },
     "execution_count": 1,
     "metadata": {},
     "output_type": "execute_result"
    }
   ],
   "source": [
    "'''\n",
    "Import dataset\n",
    "'''\n",
    "import pandas as pd\n",
    "yes24 = pd.read_csv(\"./data/yes24-prep.csv\", names=['name', 'id', 'text'])\n",
    "yes24.head()"
   ]
  },
  {
   "cell_type": "code",
   "execution_count": 2,
   "metadata": {},
   "outputs": [],
   "source": [
    "'''\n",
    "TF-IDF Model 생성\n",
    "'''\n",
    "from sklearn.feature_extraction.text import CountVectorizer\n",
    "from sklearn.feature_extraction.text import TfidfTransformer\n",
    "\n",
    "count_vectorizer = CountVectorizer() # Vectorize\n",
    "count_vector = count_vectorizer.fit_transform(yes24.text)\n",
    "\n",
    "tfidf_transformer = TfidfTransformer() # Transform to TF-IDF\n",
    "tfidf_features = tfidf_transformer.fit_transform(count_vector)"
   ]
  },
  {
   "cell_type": "code",
   "execution_count": 3,
   "metadata": {},
   "outputs": [
    {
     "name": "stdout",
     "output_type": "stream",
     "text": [
      "  (0, 903)\t1\n",
      "  (0, 29203)\t1\n",
      "  (0, 29203)\t0.7322325234023486\n",
      "  (0, 903)\t0.681054720027568\n"
     ]
    }
   ],
   "source": [
    "'''\n",
    "Query data 생성\n",
    "'''\n",
    "query = [\"개념 원리\"] # 띄어쓰기 단위로 구분하여 처리됨\n",
    "\n",
    "q = count_vectorizer.transform(query) # count vectorizer 사용\n",
    "print(q)\n",
    "q = tfidf_transformer.transform(q) # query도 tf-idf로\n",
    "print(q)"
   ]
  },
  {
   "cell_type": "code",
   "execution_count": 4,
   "metadata": {},
   "outputs": [],
   "source": [
    "'''\n",
    "Score 계산 (Cosine Distance)\n",
    "'''\n",
    "from scipy.spatial import distance\n",
    "\n",
    "# calculate the distance between query and every other document\n",
    "# e.g. print(distance.cosine(q.toarray(), tfidf_features[0].toarray()))\n",
    "distances = [ distance.cosine(q.toarray(), feat.toarray()) for feat in tfidf_features]"
   ]
  },
  {
   "cell_type": "code",
   "execution_count": 5,
   "metadata": {},
   "outputs": [
    {
     "name": "stdout",
     "output_type": "stream",
     "text": [
      "13867 0.5236652629552107\n",
      "6470 0.5373176731204501\n",
      "2015 0.5948296809364537\n",
      "16340 0.5985437055906844\n",
      "1333 0.6079028126846131\n",
      "6430 0.6079028126846131\n",
      "11373 0.6079028126846131\n",
      "13857 0.6079028126846131\n",
      "18387 0.6147441847870276\n",
      "12855 0.6235894539059026\n"
     ]
    }
   ],
   "source": [
    "'''\n",
    "계산한 Score를 통해 가장 비슷한 상위 10개 받아와보기\n",
    "'''\n",
    "# sort indices by distances, excluding the first one which is distance from query to itself (0)\n",
    "idx_closest = sorted(range(len(distances)), key=lambda k: distances[k])[1:]\n",
    "idx_closest[:10]\n",
    "\n",
    "for index in idx_closest[:10]:\n",
    "    print(index, distances[index])"
   ]
  },
  {
   "cell_type": "code",
   "execution_count": 6,
   "metadata": {},
   "outputs": [
    {
     "data": {
      "text/html": [
       "<div>\n",
       "<style scoped>\n",
       "    .dataframe tbody tr th:only-of-type {\n",
       "        vertical-align: middle;\n",
       "    }\n",
       "\n",
       "    .dataframe tbody tr th {\n",
       "        vertical-align: top;\n",
       "    }\n",
       "\n",
       "    .dataframe thead th {\n",
       "        text-align: right;\n",
       "    }\n",
       "</style>\n",
       "<table border=\"1\" class=\"dataframe\">\n",
       "  <thead>\n",
       "    <tr style=\"text-align: right;\">\n",
       "      <th></th>\n",
       "      <th>name</th>\n",
       "      <th>id</th>\n",
       "      <th>text</th>\n",
       "    </tr>\n",
       "  </thead>\n",
       "  <tbody>\n",
       "    <tr>\n",
       "      <th>13867</th>\n",
       "      <td>헤르메스 가르침</td>\n",
       "      <td>9.791185e+12</td>\n",
       "      <td>이 책 모든 신비 사상 아버지 점성술 설립 연금술 창안 헤르메스 핵심 가르침 헤르메...</td>\n",
       "    </tr>\n",
       "    <tr>\n",
       "      <th>6470</th>\n",
       "      <td>개념-뿌리들</td>\n",
       "      <td>9.788977e+12</td>\n",
       "      <td>소운 이정우 저작 집 의 권 개념 뿌리 은 년 간 개념 뿌리 권 합본 책 철학 공부...</td>\n",
       "    </tr>\n",
       "    <tr>\n",
       "      <th>2015</th>\n",
       "      <td>하나님의 학습법</td>\n",
       "      <td>9.788953e+12</td>\n",
       "      <td>성경 자녀 교육법 오늘날 한국 사회 가장 문제 교육 입시 위주 파행 교육 그 도 과...</td>\n",
       "    </tr>\n",
       "    <tr>\n",
       "      <th>16340</th>\n",
       "      <td>그림으로 이해하는 경제사상</td>\n",
       "      <td>9.788958e+12</td>\n",
       "      <td>인간 그 자체 하나 경제 행위 여러 경제 개념 용어 이 책 현대 의미 경제 개념 중...</td>\n",
       "    </tr>\n",
       "    <tr>\n",
       "      <th>1333</th>\n",
       "      <td>노아가 동물을 태워요</td>\n",
       "      <td>9.788904e+12</td>\n",
       "      <td>사물 세상 구체 개념 유아 가장 개념 책 시리즈 개념 하나님 로부터 것 하나님 창조...</td>\n",
       "    </tr>\n",
       "    <tr>\n",
       "      <th>6430</th>\n",
       "      <td>예수님이 아픈사람을 고쳐요</td>\n",
       "      <td>9.788904e+12</td>\n",
       "      <td>사물 세상 구체 개념 유아 가장 개념 책 시리즈 개념 하나님 로부터 것 하나님 창조...</td>\n",
       "    </tr>\n",
       "    <tr>\n",
       "      <th>11373</th>\n",
       "      <td>다윗이 양들을 돌봐요</td>\n",
       "      <td>9.788904e+12</td>\n",
       "      <td>사물 세상 구체 개념 유아 가장 개념 책 시리즈 개념 하나님 로부터 것 하나님 창조...</td>\n",
       "    </tr>\n",
       "    <tr>\n",
       "      <th>13857</th>\n",
       "      <td>베드로는 기뻐요</td>\n",
       "      <td>9.788904e+12</td>\n",
       "      <td>사물 세상 구체 개념 유아 가장 개념 책 시리즈 개념 하나님 로부터 것 하나님 창조...</td>\n",
       "    </tr>\n",
       "    <tr>\n",
       "      <th>18387</th>\n",
       "      <td>과학실험 큐티</td>\n",
       "      <td>9.788904e+12</td>\n",
       "      <td>이 책 아이 수 투명인간 원리 내비게이션 원리 관성 법칙 비행기 양력 등 평소 과학...</td>\n",
       "    </tr>\n",
       "    <tr>\n",
       "      <th>12855</th>\n",
       "      <td>회사 개념어 사전</td>\n",
       "      <td>9.788966e+12</td>\n",
       "      <td>개념 바로 일이 바로 선 고객 보고 업 본질 전략 경영 과 관리 당신 조직 개념 어...</td>\n",
       "    </tr>\n",
       "  </tbody>\n",
       "</table>\n",
       "</div>"
      ],
      "text/plain": [
       "                 name            id  \\\n",
       "13867        헤르메스 가르침  9.791185e+12   \n",
       "6470           개념-뿌리들  9.788977e+12   \n",
       "2015         하나님의 학습법  9.788953e+12   \n",
       "16340  그림으로 이해하는 경제사상  9.788958e+12   \n",
       "1333      노아가 동물을 태워요  9.788904e+12   \n",
       "6430   예수님이 아픈사람을 고쳐요  9.788904e+12   \n",
       "11373     다윗이 양들을 돌봐요  9.788904e+12   \n",
       "13857        베드로는 기뻐요  9.788904e+12   \n",
       "18387         과학실험 큐티  9.788904e+12   \n",
       "12855       회사 개념어 사전  9.788966e+12   \n",
       "\n",
       "                                                    text  \n",
       "13867  이 책 모든 신비 사상 아버지 점성술 설립 연금술 창안 헤르메스 핵심 가르침 헤르메...  \n",
       "6470   소운 이정우 저작 집 의 권 개념 뿌리 은 년 간 개념 뿌리 권 합본 책 철학 공부...  \n",
       "2015   성경 자녀 교육법 오늘날 한국 사회 가장 문제 교육 입시 위주 파행 교육 그 도 과...  \n",
       "16340  인간 그 자체 하나 경제 행위 여러 경제 개념 용어 이 책 현대 의미 경제 개념 중...  \n",
       "1333   사물 세상 구체 개념 유아 가장 개념 책 시리즈 개념 하나님 로부터 것 하나님 창조...  \n",
       "6430   사물 세상 구체 개념 유아 가장 개념 책 시리즈 개념 하나님 로부터 것 하나님 창조...  \n",
       "11373  사물 세상 구체 개념 유아 가장 개념 책 시리즈 개념 하나님 로부터 것 하나님 창조...  \n",
       "13857  사물 세상 구체 개념 유아 가장 개념 책 시리즈 개념 하나님 로부터 것 하나님 창조...  \n",
       "18387  이 책 아이 수 투명인간 원리 내비게이션 원리 관성 법칙 비행기 양력 등 평소 과학...  \n",
       "12855  개념 바로 일이 바로 선 고객 보고 업 본질 전략 경영 과 관리 당신 조직 개념 어...  "
      ]
     },
     "execution_count": 6,
     "metadata": {},
     "output_type": "execute_result"
    }
   ],
   "source": [
    "'''\n",
    "이에 대한 최종 검색 결과\n",
    "'''\n",
    "yes24.loc[idx_closest[:10]] # id = ISBN"
   ]
  }
 ],
 "metadata": {
  "kernelspec": {
   "display_name": "Python 3",
   "language": "python",
   "name": "python3"
  },
  "language_info": {
   "codemirror_mode": {
    "name": "ipython",
    "version": 3
   },
   "file_extension": ".py",
   "mimetype": "text/x-python",
   "name": "python",
   "nbconvert_exporter": "python",
   "pygments_lexer": "ipython3",
   "version": "3.7.6"
  }
 },
 "nbformat": 4,
 "nbformat_minor": 4
}
