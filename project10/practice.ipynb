{
 "cells": [
  {
   "cell_type": "markdown",
   "metadata": {},
   "source": [
    "# Practice"
   ]
  },
  {
   "cell_type": "code",
   "execution_count": 12,
   "metadata": {},
   "outputs": [],
   "source": [
    "import nltk\n",
    "\n",
    "docs = ['This is the first document.', 'This document is the second document.', 'And this is the third one.', 'Is this the first document?']\n",
    "\n",
    "# (1) Use CountVectorizer\n",
    "from sklearn.feature_extraction.text import CountVectorizer\n",
    "count_vectorizer = CountVectorizer(stop_words=['is', 'the'])\n",
    "docs_features = count_vectorizer.fit_transform(docs)\n",
    "\n",
    "# (2) Use TfidfVectoriser\n",
    "from sklearn.feature_extraction.text import TfidfVectorizer\n",
    "tfidf_vectorizer = TfidfVectorizer(stop_words=['is', 'the'])\n",
    "docs_features_tfidf = tfidf_vectorizer.fit_transform(docs)\n",
    "\n",
    "# (3) Use CountVectorizer + Tfid Transformer\n",
    "from sklearn.feature_extraction.text import TfidfTransformer\n",
    "tfidf_transformer = TfidfTransformer()\n",
    "docs_features_tfidf_2 = tfidf_transformer.fit_transform(docs_features)"
   ]
  },
  {
   "cell_type": "code",
   "execution_count": 13,
   "metadata": {},
   "outputs": [
    {
     "name": "stdout",
     "output_type": "stream",
     "text": [
      "['and', 'document', 'first', 'one', 'second', 'third', 'this']\n",
      "[[0 1 1 0 0 0 1]\n",
      " [0 2 0 0 1 0 1]\n",
      " [1 0 0 1 0 1 1]\n",
      " [0 1 1 0 0 0 1]]\n"
     ]
    }
   ],
   "source": [
    "# (Result1) Count Vectorizer\n",
    "print(count_vectorizer.get_feature_names())\n",
    "print(docs_features.toarray())"
   ]
  },
  {
   "cell_type": "code",
   "execution_count": 14,
   "metadata": {},
   "outputs": [
    {
     "name": "stdout",
     "output_type": "stream",
     "text": [
      "['and', 'document', 'first', 'one', 'second', 'third', 'this']\n",
      "[[0.         0.55953044 0.69113141 0.         0.         0.\n",
      "  0.4574528 ]\n",
      " [0.         0.74937693 0.         0.         0.58702189 0.\n",
      "  0.30633237]\n",
      " [0.55280532 0.         0.         0.55280532 0.         0.55280532\n",
      "  0.28847675]\n",
      " [0.         0.55953044 0.69113141 0.         0.         0.\n",
      "  0.4574528 ]]\n"
     ]
    }
   ],
   "source": [
    "# (Result2) Tfidf Vectorizer\n",
    "print(tfidf_vectorizer.get_feature_names())\n",
    "print(docs_features_tfidf.toarray())"
   ]
  },
  {
   "cell_type": "code",
   "execution_count": 15,
   "metadata": {},
   "outputs": [
    {
     "name": "stdout",
     "output_type": "stream",
     "text": [
      "['and', 'document', 'first', 'one', 'second', 'third', 'this']\n",
      "[[0.         0.55953044 0.69113141 0.         0.         0.\n",
      "  0.4574528 ]\n",
      " [0.         0.74937693 0.         0.         0.58702189 0.\n",
      "  0.30633237]\n",
      " [0.55280532 0.         0.         0.55280532 0.         0.55280532\n",
      "  0.28847675]\n",
      " [0.         0.55953044 0.69113141 0.         0.         0.\n",
      "  0.4574528 ]]\n"
     ]
    }
   ],
   "source": [
    "# (Result3) CountVectorizer + Tfid Transformer\n",
    "print(count_vectorizer.get_feature_names())\n",
    "print(docs_features_tfidf_2.toarray())"
   ]
  }
 ],
 "metadata": {
  "kernelspec": {
   "display_name": "Python 3",
   "language": "python",
   "name": "python3"
  },
  "language_info": {
   "codemirror_mode": {
    "name": "ipython",
    "version": 3
   },
   "file_extension": ".py",
   "mimetype": "text/x-python",
   "name": "python",
   "nbconvert_exporter": "python",
   "pygments_lexer": "ipython3",
   "version": "3.7.6"
  }
 },
 "nbformat": 4,
 "nbformat_minor": 4
}
